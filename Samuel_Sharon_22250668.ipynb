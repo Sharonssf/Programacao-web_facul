{
  "nbformat": 4,
  "nbformat_minor": 0,
  "metadata": {
    "colab": {
      "provenance": [],
      "authorship_tag": "ABX9TyM97xHNb2/0ANbas++qqw2p",
      "include_colab_link": true
    },
    "kernelspec": {
      "name": "python3",
      "display_name": "Python 3"
    },
    "language_info": {
      "name": "python"
    }
  },
  "cells": [
    {
      "cell_type": "markdown",
      "metadata": {
        "id": "view-in-github",
        "colab_type": "text"
      },
      "source": [
        "<a href=\"https://colab.research.google.com/github/Sharonssf/Programacao-web_facul/blob/main/Samuel_Sharon_22250668.ipynb\" target=\"_parent\"><img src=\"https://colab.research.google.com/assets/colab-badge.svg\" alt=\"Open In Colab\"/></a>"
      ]
    },
    {
      "cell_type": "code",
      "execution_count": 5,
      "metadata": {
        "colab": {
          "base_uri": "https://localhost:8080/"
        },
        "id": "vD6QEz0NhvWx",
        "outputId": "07d75cc1-0853-484b-bc36-78e80b1ca790"
      },
      "outputs": [
        {
          "output_type": "stream",
          "name": "stdout",
          "text": [
            "False\n",
            "Exercicio 1 está correto\n"
          ]
        }
      ],
      "source": [
        "\n",
        "# Exercício 1\n",
        "# Na linha abaixo, crie uma variável chamada on_mars_right_now e atribua a ela o valor booleano False\n",
        "\n",
        "on_mars_rigth_now = False\n",
        "print(on_mars_rigth_now)\n",
        "print (\"Exercicio 1 está correto\")"
      ]
    },
    {
      "cell_type": "code",
      "source": [
        "# Exercício 2\n",
        "# Crie uma variável chamada fruits e atribua a ela uma lista de frutas contendo os seguintes nomes de frutas como strings:\n",
        "# manga, banana, goiaba, kiwi e morango.\n",
        "fruits = [\"manga\", \"banana\", \"goiaba\", \"kiwi\", \"morango\"]\n",
        "print(fruits)\n",
        "print(\"Exercicio 2 está correto\")"
      ],
      "metadata": {
        "colab": {
          "base_uri": "https://localhost:8080/"
        },
        "id": "8SqD5mgfiOVR",
        "outputId": "1d5dab74-e580-42e9-930f-065ab3f8f92d"
      },
      "execution_count": 6,
      "outputs": [
        {
          "output_type": "stream",
          "name": "stdout",
          "text": [
            "['manga', 'banana', 'goiaba', 'kiwi', 'morango']\n",
            "Exercicio 2 está correto\n"
          ]
        }
      ]
    },
    {
      "cell_type": "code",
      "source": [
        "# Exercício 3\n",
        "# Crie uma variável chamada vegetables e atribua a ela uma lista de vegetais contendo os seguintes nomes de vegetais como strings:\n",
        "# berinjela, brócolis, cenoura, couve-flor e abobrinha\n",
        "\n",
        "vegetables = [\"berinjela\", \"brócolis\", \"cenoura\", \"couve-flor\", \"abobrinha\"]\n",
        "print(\"Exercício 3 está correto.\")\n",
        "print(vegetables)"
      ],
      "metadata": {
        "colab": {
          "base_uri": "https://localhost:8080/"
        },
        "id": "rRADvVEqjvul",
        "outputId": "20cf7646-74b4-42ae-906c-00eb189733a9"
      },
      "execution_count": 9,
      "outputs": [
        {
          "output_type": "stream",
          "name": "stdout",
          "text": [
            "Exercício 3 está correto.\n",
            "vegetables\n"
          ]
        }
      ]
    },
    {
      "cell_type": "code",
      "source": [
        "# Exercício 4\n",
        "# Crie uma variável chamada numbers e atribua a ela uma lista de números, 1, 2, 3, 4, 5, 6, 7, 8, 9, 10\n",
        "\n",
        "numbers = [1, 2, 3, 4, 5, 6, 7, 8, 9, 10]\n",
        "print (numbers)\n",
        "print(\"Exercício 4 está correto.\")"
      ],
      "metadata": {
        "colab": {
          "base_uri": "https://localhost:8080/"
        },
        "id": "yeDsCMx6kJED",
        "outputId": "3c42d551-d576-4c7f-b6f6-dfd4238ee860"
      },
      "execution_count": 10,
      "outputs": [
        {
          "output_type": "stream",
          "name": "stdout",
          "text": [
            "[1, 2, 3, 4, 5, 6, 7, 8, 9, 10]\n",
            "Exercício 4 está correto.\n"
          ]
        }
      ]
    },
    {
      "cell_type": "code",
      "source": [
        "# Exercício 5\n",
        "# Dada a seguinte atribuição da lista de frutas, adicione \"tomate\" ao final da lista.\n",
        "print(fruits)\n",
        "lastFruit = \"tomate\"\n",
        "\n",
        "fruits.append(lastFruit)\n",
        "\n",
        "print(fruits)\n",
        "print(\"Exercício 5 está correto\")"
      ],
      "metadata": {
        "colab": {
          "base_uri": "https://localhost:8080/"
        },
        "id": "so4jaViFkYTw",
        "outputId": "d028e4c2-26ed-4f07-e6e7-05a636a4c61d"
      },
      "execution_count": 20,
      "outputs": [
        {
          "output_type": "stream",
          "name": "stdout",
          "text": [
            "['tomate', 'morango', 'manga', 'kiwi', 'goiaba', 'banana']\n",
            "['tomate', 'morango', 'manga', 'kiwi', 'goiaba', 'banana', 'tomate']\n",
            "Exercício 5 está correto\n"
          ]
        }
      ]
    },
    {
      "cell_type": "code",
      "source": [
        "# Exercício 6\n",
        "# Dada a seguinte atribuição da lista de vegetais, adicione \"tomate\" ao final da lista.\n",
        "print(vegetables)\n",
        "lastFruit = \"tomate\"\n",
        "\n",
        "vegetables.append(lastFruit)\n",
        "\n",
        "print(vegetables)\n",
        "print(\"Exercício 6 está correto\")"
      ],
      "metadata": {
        "colab": {
          "base_uri": "https://localhost:8080/"
        },
        "id": "tKdX2usWlJfP",
        "outputId": "08394759-333e-460b-8804-ad6dbc0af249"
      },
      "execution_count": 13,
      "outputs": [
        {
          "output_type": "stream",
          "name": "stdout",
          "text": [
            "['berinjela', 'brócolis', 'cenoura', 'couve-flor', 'abobrinha']\n",
            "['berinjela', 'brócolis', 'cenoura', 'couve-flor', 'abobrinha', 'tomate']\n",
            "Exercício 6 está correto\n"
          ]
        }
      ]
    },
    {
      "cell_type": "code",
      "source": [
        "# Exercício 7\n",
        "# Dada a lista de números definida abaixo, inverta a lista de números que você criou acima.\n",
        "print(numbers)\n",
        "\n",
        "numbers.reverse()\n",
        "\n",
        "print(numbers)\n",
        "print(\"Exercício 7 está correto\")"
      ],
      "metadata": {
        "colab": {
          "base_uri": "https://localhost:8080/"
        },
        "id": "7tI3taXxltlI",
        "outputId": "51082574-55fd-4143-d54c-98465c93db41"
      },
      "execution_count": 14,
      "outputs": [
        {
          "output_type": "stream",
          "name": "stdout",
          "text": [
            "[1, 2, 3, 4, 5, 6, 7, 8, 9, 10]\n",
            "[10, 9, 8, 7, 6, 5, 4, 3, 2, 1]\n",
            "Exercício 7 está correto\n"
          ]
        }
      ]
    },
    {
      "cell_type": "code",
      "source": [
        "# Exercício 8\n",
        "# Ordene os vegetais em ordem alfabética\n",
        "print(vegetables)\n",
        "vegetables.sort()\n",
        "print(vegetables)\n",
        "\n",
        "print(\"Exercício 8 está correto.\")"
      ],
      "metadata": {
        "colab": {
          "base_uri": "https://localhost:8080/"
        },
        "id": "VEJkBiNWmylq",
        "outputId": "f7e0dc4d-f921-4ded-fee7-0853cfe19f38"
      },
      "execution_count": 16,
      "outputs": [
        {
          "output_type": "stream",
          "name": "stdout",
          "text": [
            "['abobrinha', 'berinjela', 'brócolis', 'cenoura', 'couve-flor', 'tomate']\n",
            "['abobrinha', 'berinjela', 'brócolis', 'cenoura', 'couve-flor', 'tomate']\n"
          ]
        }
      ]
    },
    {
      "cell_type": "code",
      "source": [
        "# Exercício 9\n",
        "# Escreva o código necessário para classificar as frutas em ordem alfabética inversa\n",
        "print(fruits)\n",
        "fruits.sort(reverse=True)\n",
        "print(fruits)\n",
        "\n",
        "print(\"Exercício 9 está correto.\")\n"
      ],
      "metadata": {
        "colab": {
          "base_uri": "https://localhost:8080/"
        },
        "id": "ae8pzzBlniZR",
        "outputId": "e8228bb0-5d5e-4857-ee73-8be9e3bd92d7"
      },
      "execution_count": 17,
      "outputs": [
        {
          "output_type": "stream",
          "name": "stdout",
          "text": [
            "['manga', 'banana', 'goiaba', 'kiwi', 'morango', 'tomate']\n",
            "['tomate', 'morango', 'manga', 'kiwi', 'goiaba', 'banana']\n",
            "Exercício 9 está correto.\n"
          ]
        }
      ]
    },
    {
      "cell_type": "code",
      "source": [
        "# Exercício 10\n",
        "# Escreva o código necessário para produzir uma única lista que contenha todas as frutas e depois todos os vegetais na ordem em que foram classificados acima.\n",
        "vegetables.sort(reverse=True)\n",
        "allFood = fruits + vegetables\n",
        "\n",
        "print(allFood)\n",
        "print(\"Exercício 10 está correto\")"
      ],
      "metadata": {
        "colab": {
          "base_uri": "https://localhost:8080/"
        },
        "id": "7IuYBbn5oTkf",
        "outputId": "62078366-9f44-4700-eb41-41846de564cc"
      },
      "execution_count": 19,
      "outputs": [
        {
          "output_type": "stream",
          "name": "stdout",
          "text": [
            "['tomate', 'morango', 'manga', 'kiwi', 'goiaba', 'banana', 'tomate', 'couve-flor', 'cenoura', 'brócolis', 'berinjela', 'abobrinha']\n",
            "Exercício 10 está correto\n"
          ]
        }
      ]
    }
  ]
}